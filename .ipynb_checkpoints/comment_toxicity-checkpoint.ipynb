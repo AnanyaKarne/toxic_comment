{
 "cells": [
  {
   "cell_type": "code",
   "execution_count": 2,
   "id": "3d39e7bf-d5d6-48f3-a7cc-e6475f129d5a",
   "metadata": {},
   "outputs": [],
   "source": [
    "import os\n",
    "import pandas as pd\n",
    "import tensorflow as tf\n",
    "import numpy as np"
   ]
  },
  {
   "cell_type": "code",
   "execution_count": 20,
   "id": "aa762ec1-5d0e-4348-b086-8622d1b73dfb",
   "metadata": {},
   "outputs": [],
   "source": [
    "import tensorflow as tf\n",
    "import gradio as gr\n",
    "from tensorflow.keras.layers import TextVectorization\n",
    "df=pd.read_csv('train.csv')\n",
    "MAX_FEATURES=20000\n",
    "x = df['comment_text']\n",
    "y = df[df.columns[2:]].values \n",
    "vectorizer.adapt(x.values)"
   ]
  },
  {
   "cell_type": "code",
   "execution_count": 21,
   "id": "553a7f03-08fd-46f3-bead-9bda06d93a5f",
   "metadata": {},
   "outputs": [],
   "source": [
    "new_model = tf.keras.models.load_model('toxicity.h5')\n",
    "vectorizer = TextVectorization(max_tokens=MAX_FEATURES,\n",
    "                               output_sequence_length=1200,\n",
    "                               output_mode='int')"
   ]
  },
  {
   "cell_type": "code",
   "execution_count": 25,
   "id": "5bbace77-3cbf-4973-9174-df532f9605d8",
   "metadata": {},
   "outputs": [],
   "source": [
    "\n",
    "vectorizer.adapt(x)"
   ]
  },
  {
   "cell_type": "code",
   "execution_count": null,
   "id": "5be4599e-63a6-4f4b-a57a-ff4eff4c5aaa",
   "metadata": {},
   "outputs": [],
   "source": []
  }
 ],
 "metadata": {
  "kernelspec": {
   "display_name": "Python 3 (ipykernel)",
   "language": "python",
   "name": "python3"
  },
  "language_info": {
   "codemirror_mode": {
    "name": "ipython",
    "version": 3
   },
   "file_extension": ".py",
   "mimetype": "text/x-python",
   "name": "python",
   "nbconvert_exporter": "python",
   "pygments_lexer": "ipython3",
   "version": "3.10.2"
  }
 },
 "nbformat": 4,
 "nbformat_minor": 5
}
