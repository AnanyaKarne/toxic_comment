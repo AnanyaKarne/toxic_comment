{
 "cells": [
  {
   "cell_type": "code",
   "execution_count": null,
   "id": "e2410038-5fc1-40d1-9e34-aaa05f82416e",
   "metadata": {},
   "outputs": [],
   "source": [
    "import pandas as pd"
   ]
  },
  {
   "cell_type": "code",
   "execution_count": null,
   "id": "b76382ab-60b0-48e6-b47d-90622dfedfbd",
   "metadata": {},
   "outputs": [],
   "source": [
    "df=pd.read_csv('train.csv')"
   ]
  },
  {
   "cell_type": "code",
   "execution_count": null,
   "id": "0ffb15d1-a801-4108-b0aa-8daa0fbc5dab",
   "metadata": {},
   "outputs": [],
   "source": [
    "import os\n",
    "import pandas as pd\n",
    "import tensorflow as tf\n",
    "import numpy as np\n"
   ]
  },
  {
   "cell_type": "code",
   "execution_count": null,
   "id": "4ea4b631-bdc5-46de-8091-56c86994f96b",
   "metadata": {},
   "outputs": [],
   "source": [
    "df.head()"
   ]
  },
  {
   "cell_type": "code",
   "execution_count": null,
   "id": "13931b70-f879-4753-b73b-f1c5b4752df5",
   "metadata": {},
   "outputs": [],
   "source": [
    "df.iloc[0]['comment_text']"
   ]
  },
  {
   "cell_type": "code",
   "execution_count": null,
   "id": "62cadb1e-d1e9-463a-87a4-30f1c043fe4d",
   "metadata": {},
   "outputs": [],
   "source": []
  },
  {
   "cell_type": "code",
   "execution_count": null,
   "id": "1d1dc442-f242-40a9-9d64-559b242a4ddd",
   "metadata": {},
   "outputs": [],
   "source": [
    "from tensorflow.keras.layers import TextVectorization\n"
   ]
  },
  {
   "cell_type": "code",
   "execution_count": null,
   "id": "a752cb70-313d-4aee-a8d4-630d92ef9f94",
   "metadata": {},
   "outputs": [],
   "source": []
  },
  {
   "cell_type": "code",
   "execution_count": null,
   "id": "41b2e019-9b1c-434f-ae77-52c0f31d9932",
   "metadata": {},
   "outputs": [],
   "source": [
    "df['comment_text']"
   ]
  },
  {
   "cell_type": "code",
   "execution_count": null,
   "id": "538050da-095f-4b49-8ccb-ef76bb7843ed",
   "metadata": {},
   "outputs": [],
   "source": [
    "df[df.columns[2:]].values"
   ]
  },
  {
   "cell_type": "code",
   "execution_count": null,
   "id": "4b269d6a-7af5-43f5-a0ea-236281abc3ae",
   "metadata": {},
   "outputs": [],
   "source": [
    "x = df['comment_text']\n",
    "y = df[df.columns[2:]].values \n"
   ]
  },
  {
   "cell_type": "code",
   "execution_count": null,
   "id": "30cf09aa-8b21-43b1-b1d4-f2f3f73360a2",
   "metadata": {},
   "outputs": [],
   "source": [
    "x"
   ]
  },
  {
   "cell_type": "code",
   "execution_count": null,
   "id": "f592497c-248d-466c-b107-b46a27817100",
   "metadata": {},
   "outputs": [],
   "source": [
    "y"
   ]
  },
  {
   "cell_type": "code",
   "execution_count": null,
   "id": "8af7f9a8-5950-4e08-88f2-79a446ac676b",
   "metadata": {},
   "outputs": [],
   "source": [
    "MAX_FEATURES=20000"
   ]
  },
  {
   "cell_type": "code",
   "execution_count": null,
   "id": "5482d205-723e-4a61-93b2-ee8a9948b988",
   "metadata": {},
   "outputs": [],
   "source": [
    "vectorizer = TextVectorization(max_tokens=MAX_FEATURES,\n",
    "                               output_sequence_length=1200,\n",
    "                               output_mode='int')"
   ]
  },
  {
   "cell_type": "code",
   "execution_count": null,
   "id": "8198ca70-dabd-4cba-a049-fe58b84ccdf6",
   "metadata": {
    "jupyter": {
     "source_hidden": true
    },
    "tags": []
   },
   "outputs": [],
   "source": [
    "#x.values\n"
   ]
  },
  {
   "cell_type": "code",
   "execution_count": null,
   "id": "a7d2bb7b-40ee-4e58-a868-8e16c1348f5b",
   "metadata": {},
   "outputs": [],
   "source": [
    "vectorizer.adapt(x.values)"
   ]
  },
  {
   "cell_type": "code",
   "execution_count": null,
   "id": "d36fe89b-d7cd-4f37-b91e-ac2706e36a79",
   "metadata": {},
   "outputs": [],
   "source": [
    "vectorizer('hello girl you look bad')[:5] #here it hsows the words being converted into numbers"
   ]
  },
  {
   "cell_type": "code",
   "execution_count": null,
   "id": "986e1977-16ce-4086-a240-7bb1f9d59ac9",
   "metadata": {},
   "outputs": [],
   "source": [
    "vectorized_text = vectorizer(x.values)\n"
   ]
  },
  {
   "cell_type": "code",
   "execution_count": null,
   "id": "0533d13b-c6a2-4dce-a826-9463a95990b3",
   "metadata": {},
   "outputs": [],
   "source": [
    "type(vectorized_text)"
   ]
  },
  {
   "cell_type": "code",
   "execution_count": null,
   "id": "e3573859-b4d6-4b4f-a09b-7a7bc28f1481",
   "metadata": {},
   "outputs": [],
   "source": [
    "vectorized_text"
   ]
  },
  {
   "cell_type": "code",
   "execution_count": null,
   "id": "4ef3dbd3-d12c-4238-be4c-5b4814e5ff8c",
   "metadata": {
    "tags": []
   },
   "outputs": [],
   "source": [
    "len(x)"
   ]
  },
  {
   "cell_type": "code",
   "execution_count": null,
   "id": "227994bc-688e-4e2e-8863-1134d8251f36",
   "metadata": {},
   "outputs": [],
   "source": [
    "dataset = tf.data.Dataset.from_tensor_slices((vectorized_text,y))\n",
    "dataset = dataset.cache()\n",
    "dataset = dataset.shuffle(160000)\n",
    "dataset = dataset.batch(16)\n",
    "dataset = dataset.prefetch(8)"
   ]
  },
  {
   "cell_type": "code",
   "execution_count": null,
   "id": "6d006f3f-a66a-4b36-b5f4-55b013bbb9ed",
   "metadata": {
    "tags": []
   },
   "outputs": [],
   "source": [
    "dataset.as_numpy_iterator().next()"
   ]
  },
  {
   "cell_type": "code",
   "execution_count": null,
   "id": "bd0b0ccd-dfa2-4c26-8fa4-772a2c04b6c7",
   "metadata": {},
   "outputs": [],
   "source": [
    "len(dataset) #number of batches"
   ]
  },
  {
   "cell_type": "code",
   "execution_count": null,
   "id": "598f6f5e-5201-4d5e-a7cb-4c607e674b96",
   "metadata": {},
   "outputs": [],
   "source": [
    "#so previously we've divided our dataset into batches of 16, means in the array, \n",
    "#one element be having 16 sub-elements, and there wull be 9974 such elements. 159571/9947=16"
   ]
  },
  {
   "cell_type": "code",
   "execution_count": null,
   "id": "7397b2ae-5a09-4f49-bf6d-39fd4a6c7b87",
   "metadata": {},
   "outputs": [],
   "source": [
    "int(len(dataset)*.7) #its just an exampler illustration"
   ]
  },
  {
   "cell_type": "code",
   "execution_count": null,
   "id": "8c95518e-0c8f-4146-8bc1-a57c8b1b9cc5",
   "metadata": {},
   "outputs": [],
   "source": [
    "train = dataset.take(int(len(dataset)*.7))"
   ]
  },
  {
   "cell_type": "code",
   "execution_count": null,
   "id": "d6e6fc84-d67a-4aee-b5bf-da5a3d167a59",
   "metadata": {},
   "outputs": [],
   "source": [
    "valid = dataset.skip(int(len(dataset)*.7)).take(int(len(dataset)*.2))"
   ]
  },
  {
   "cell_type": "code",
   "execution_count": null,
   "id": "ff15932d-81ba-4b5b-974b-793f148768ce",
   "metadata": {},
   "outputs": [],
   "source": [
    "test = dataset.skip(int(len(dataset)*.9)).take(int(len(dataset)*.1))"
   ]
  },
  {
   "cell_type": "code",
   "execution_count": null,
   "id": "e9117ba2-1cfc-476f-b0ff-1c19d0fc7ae9",
   "metadata": {},
   "outputs": [],
   "source": [
    "from tensorflow.keras.models import Sequential #method for buliding up this model"
   ]
  },
  {
   "cell_type": "code",
   "execution_count": null,
   "id": "2b4d3de9-4527-44a3-a3ec-a6c2deaec9b3",
   "metadata": {},
   "outputs": [],
   "source": [
    "from tensorflow.keras.layers import LSTM, Dropout, Bidirectional,Dense, Embedding"
   ]
  },
  {
   "cell_type": "code",
   "execution_count": null,
   "id": "6875bb66-3a82-4fdf-8c63-00e3b159708d",
   "metadata": {},
   "outputs": [],
   "source": [
    "model = Sequential()\n",
    "#creating embedding layer. Embedding means-like the information or charateristics or something about something it knows\n",
    "#and me train the deep neural network through embedding. So we gonna creat an embedding layer. describing it following:\n",
    "model.add(Embedding(MAX_FEATURES+1,32))\n",
    "#creating an LSTM layer, having 32 lstm units, and using tanh, bcz, the gpu accelaration required for the lstm layout need to be tanh,\n",
    "#dictated by tensorflow\n",
    "model.add(Bidirectional(LSTM(32, activation='tanh')))"
   ]
  },
  {
   "cell_type": "code",
   "execution_count": null,
   "id": "90134666-b6e3-4262-b35b-de792fc05615",
   "metadata": {},
   "outputs": [],
   "source": [
    "model.add(Dense(128,activation='relu'))\n",
    "model.add(Dense(256,activation='relu'))\n",
    "model.add(Dense(128,activation='relu'))"
   ]
  },
  {
   "cell_type": "code",
   "execution_count": null,
   "id": "f03adab2-09f2-4726-82c9-a4ccb5c31068",
   "metadata": {},
   "outputs": [],
   "source": [
    "# this is our final layer and this final layer maps to the number\n",
    "#of different outputs that we've got inside of our neural networks remember if we take a look at our y values\n",
    "model.add(Dense(6,activation='sigmoid'))"
   ]
  },
  {
   "cell_type": "code",
   "execution_count": null,
   "id": "70f1cd43-74a3-4a93-9581-672befb939e7",
   "metadata": {},
   "outputs": [],
   "source": [
    "model.compile(loss='BinaryCrossentropy', optimizer='Adam')\n"
   ]
  },
  {
   "cell_type": "code",
   "execution_count": null,
   "id": "397a7801-c4cf-4bd9-8cd0-8f1dea98d10a",
   "metadata": {},
   "outputs": [],
   "source": [
    "model.summary()\n"
   ]
  },
  {
   "cell_type": "code",
   "execution_count": null,
   "id": "64a09f0d-451e-45e0-81a2-0b9451e4e1ac",
   "metadata": {},
   "outputs": [],
   "source": [
    "history = model.fit(train, epochs=3, validation_data=valid)"
   ]
  },
  {
   "cell_type": "code",
   "execution_count": null,
   "id": "46fcd32b-fa28-46c3-8da7-f72dcda126cf",
   "metadata": {},
   "outputs": [],
   "source": [
    "input_text = vectorizer('you better die moron')"
   ]
  },
  {
   "cell_type": "code",
   "execution_count": null,
   "id": "bcbd1b49-90ac-4a55-88f2-bf1605657f84",
   "metadata": {},
   "outputs": [],
   "source": [
    "type(history"
   ]
  },
  {
   "cell_type": "code",
   "execution_count": null,
   "id": "10c26a3f-840a-4599-a8e5-e82fe3a67465",
   "metadata": {},
   "outputs": [],
   "source": []
  },
  {
   "cell_type": "code",
   "execution_count": null,
   "id": "bd2871f3-7363-4e83-955d-6ae6c726f079",
   "metadata": {},
   "outputs": [],
   "source": []
  }
 ],
 "metadata": {
  "kernelspec": {
   "display_name": "Python 3 (ipykernel)",
   "language": "python",
   "name": "python3"
  },
  "language_info": {
   "codemirror_mode": {
    "name": "ipython",
    "version": 3
   },
   "file_extension": ".py",
   "mimetype": "text/x-python",
   "name": "python",
   "nbconvert_exporter": "python",
   "pygments_lexer": "ipython3",
   "version": "3.10.2"
  }
 },
 "nbformat": 4,
 "nbformat_minor": 5
}
